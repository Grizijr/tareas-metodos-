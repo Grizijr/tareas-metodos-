{
 "cells": [
  {
   "cell_type": "code",
   "execution_count": 20,
   "id": "21a9dc37-b49b-4bd1-ba46-0c2d991b498f",
   "metadata": {},
   "outputs": [
    {
     "name": "stdout",
     "output_type": "stream",
     "text": [
      "velocidad inicial: 5.196666666666666 m/s\n"
     ]
    }
   ],
   "source": [
    "#datos entregados\n",
    "distancia = 2 #metros\n",
    "tiempo = 0.3 #segundos \n",
    "gravedad = 9.8 #metros/segundos^2\n",
    "\n",
    "#formula de velocidad inicial\n",
    "v0 = (distancia - (1/2) * gravedad * tiempo**2) / tiempo\n",
    "\n",
    "#resultado\n",
    "print(\"velocidad inicial:\", v0,\"m/s\")\n"
   ]
  },
  {
   "cell_type": "code",
   "execution_count": null,
   "id": "c91559e1-6735-4d30-b51e-3271e0d20ad1",
   "metadata": {},
   "outputs": [],
   "source": []
  }
 ],
 "metadata": {
  "kernelspec": {
   "display_name": "Python 3 (ipykernel)",
   "language": "python",
   "name": "python3"
  },
  "language_info": {
   "codemirror_mode": {
    "name": "ipython",
    "version": 3
   },
   "file_extension": ".py",
   "mimetype": "text/x-python",
   "name": "python",
   "nbconvert_exporter": "python",
   "pygments_lexer": "ipython3",
   "version": "3.12.7"
  }
 },
 "nbformat": 4,
 "nbformat_minor": 5
}
