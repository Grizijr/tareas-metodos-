{
 "cells": [
  {
   "cell_type": "code",
   "execution_count": 18,
   "id": "5ccc1266-91c0-4bf0-875f-239625cec194",
   "metadata": {},
   "outputs": [
    {
     "name": "stdout",
     "output_type": "stream",
     "text": [
      "Probabilidad aprox: 0.001923\n"
     ]
    }
   ],
   "source": [
    "import random\n",
    "\n",
    "#personas de la aldea\n",
    "grupo = [\"V\"]*50 + [\"M\"]*30 + [\"R\"]*20\n",
    "\n",
    "def simulacion(intentos=300000):\n",
    "    exitos = 0\n",
    "    for i in range(intentos):\n",
    "        seleccion = random.sample(grupo, 30)\n",
    "        \n",
    "        v = 0\n",
    "        m = 0\n",
    "        r = 0\n",
    "        for persona in seleccion:\n",
    "            if persona == \"V\":\n",
    "                v += 1\n",
    "            elif persona == \"M\":\n",
    "                m += 1\n",
    "            else:\n",
    "                r += 1\n",
    "        \n",
    "        if v == 10 and m == 10 and r == 10:\n",
    "            exitos += 1\n",
    "    \n",
    "    return exitos / intentos\n",
    "\n",
    "#simulo \n",
    "prob = simulacion(1000000)  #con un millon de intentos\n",
    "print(\"Probabilidad aprox:\", prob)\n"
   ]
  }
 ],
 "metadata": {
  "kernelspec": {
   "display_name": "Python 3 (ipykernel)",
   "language": "python",
   "name": "python3"
  },
  "language_info": {
   "codemirror_mode": {
    "name": "ipython",
    "version": 3
   },
   "file_extension": ".py",
   "mimetype": "text/x-python",
   "name": "python",
   "nbconvert_exporter": "python",
   "pygments_lexer": "ipython3",
   "version": "3.12.7"
  }
 },
 "nbformat": 4,
 "nbformat_minor": 5
}
